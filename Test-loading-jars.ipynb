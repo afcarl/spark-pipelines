{
 "cells": [
  {
   "cell_type": "code",
   "execution_count": 26,
   "metadata": {
    "collapsed": false,
    "deletable": true,
    "editable": true
   },
   "outputs": [
    {
     "data": {
      "text/html": [
       "Current session configs: <tt>{'executorCores': 2, 'kind': 'spark', 'conf': {}, 'driverMemory': '1000M'}</tt><br>"
      ],
      "text/plain": [
       "<IPython.core.display.HTML object>"
      ]
     },
     "metadata": {},
     "output_type": "display_data"
    },
    {
     "data": {
      "text/html": [
       "No active sessions."
      ],
      "text/plain": [
       "<IPython.core.display.HTML object>"
      ]
     },
     "metadata": {},
     "output_type": "display_data"
    }
   ],
   "source": [
    "%%info"
   ]
  },
  {
   "cell_type": "code",
   "execution_count": 27,
   "metadata": {
    "collapsed": false,
    "deletable": true,
    "editable": true
   },
   "outputs": [
    {
     "name": "stdout",
     "output_type": "stream",
     "text": [
      "Starting Spark application\n"
     ]
    },
    {
     "data": {
      "text/html": [
       "<table>\n",
       "<tr><th>ID</th><th>YARN Application ID</th><th>Kind</th><th>State</th><th>Spark UI</th><th>Driver log</th><th>Current session?</th></tr><tr><td>33</td><td>application_1497282488964_0031</td><td>spark</td><td>idle</td><td><a target=\"_blank\" href=\"http://ip-10-30-1-122.us-west-2.compute.internal:20888/proxy/application_1497282488964_0031/\">Link</a></td><td><a target=\"_blank\" href=\"http://ip-10-30-1-154.us-west-2.compute.internal:8042/node/containerlogs/container_1497282488964_0031_01_000001/root\">Link</a></td><td>✔</td></tr></table>"
      ],
      "text/plain": [
       "<IPython.core.display.HTML object>"
      ]
     },
     "metadata": {},
     "output_type": "display_data"
    },
    {
     "name": "stdout",
     "output_type": "stream",
     "text": [
      "SparkSession available as 'spark'.\n"
     ]
    },
    {
     "data": {
      "text/html": [
       "Current session configs: <tt>{'executorCores': 2, 'kind': 'spark', 'conf': {}, 'driverMemory': '1000M'}</tt><br>"
      ],
      "text/plain": [
       "<IPython.core.display.HTML object>"
      ]
     },
     "metadata": {},
     "output_type": "display_data"
    },
    {
     "data": {
      "text/html": [
       "<table>\n",
       "<tr><th>ID</th><th>YARN Application ID</th><th>Kind</th><th>State</th><th>Spark UI</th><th>Driver log</th><th>Current session?</th></tr><tr><td>33</td><td>application_1497282488964_0031</td><td>spark</td><td>idle</td><td><a target=\"_blank\" href=\"http://ip-10-30-1-122.us-west-2.compute.internal:20888/proxy/application_1497282488964_0031/\">Link</a></td><td><a target=\"_blank\" href=\"http://ip-10-30-1-154.us-west-2.compute.internal:8042/node/containerlogs/container_1497282488964_0031_01_000001/root\">Link</a></td><td>✔</td></tr></table>"
      ],
      "text/plain": [
       "<IPython.core.display.HTML object>"
      ]
     },
     "metadata": {},
     "output_type": "display_data"
    }
   ],
   "source": [
    "%%configure -f\n",
    "{\"kind\": \"spark\",\n",
    "    \"driverMemory\": \"1000M\",\n",
    "    \"executorCores\": 2,\n",
    "    \"conf\":{}\n",
    "  }"
   ]
  },
  {
   "cell_type": "code",
   "execution_count": 9,
   "metadata": {
    "collapsed": false,
    "deletable": true,
    "editable": true
   },
   "outputs": [
    {
     "name": "stderr",
     "output_type": "stream",
     "text": [
      "warning: there was one feature warning; re-run with -feature for details\n",
      "java.lang.RuntimeException: Nonzero exit value: 8\n",
      "  at scala.sys.package$.error(package.scala:27)\n",
      "  at scala.sys.process.ProcessBuilderImpl$AbstractBuilder.slurp(ProcessBuilderImpl.scala:132)\n",
      "  at scala.sys.process.ProcessBuilderImpl$AbstractBuilder.$bang$bang(ProcessBuilderImpl.scala:102)\n",
      "  ... 57 elided\n"
     ]
    }
   ],
   "source": [
    "// import sys.process._\n",
    "// val wget_output = \"\"\"wget http://modeldb.csail.mit.edu/modeldb-scala-client.jar\"\"\" !!\n",
    "// println(wget_output)\n",
    "//val cp_output = \"\"\"cp /home/livy/modeldb-scala-client.jar /usr/lib/spark/jars\"\"\" !!\n",
    "//println( cp_output)"
   ]
  },
  {
   "cell_type": "code",
   "execution_count": 29,
   "metadata": {
    "collapsed": false,
    "deletable": true,
    "editable": true
   },
   "outputs": [
    {
     "name": "stdout",
     "output_type": "stream",
     "text": [
      "warning: there was one feature warning; re-run with -feature for details\n",
      "res2: String =\n",
      "\"-rw-r--r-- 1 root root 28697490 Jun 19 22:54 /usr/lib/spark/jars/modeldb-scala-client.jar\n",
      "\""
     ]
    }
   ],
   "source": [
    "import sys.process._\n",
    "\"ls -al /usr/lib/spark/jars/modeldb-scala-client.jar\" !!"
   ]
  },
  {
   "cell_type": "code",
   "execution_count": 30,
   "metadata": {
    "collapsed": false,
    "deletable": true,
    "editable": true
   },
   "outputs": [
    {
     "name": "stdout",
     "output_type": "stream",
     "text": [
      "import edu.mit.csail.db.ml.modeldb.client.{ModelDbSyncer, NewOrExistingProject, SyncableMetrics, DefaultExperiment, NewExperimentRun}"
     ]
    }
   ],
   "source": [
    "import edu.mit.csail.db.ml.modeldb.client.{ModelDbSyncer, NewOrExistingProject, SyncableMetrics, DefaultExperiment, NewExperimentRun}"
   ]
  },
  {
   "cell_type": "code",
   "execution_count": 32,
   "metadata": {
    "collapsed": false,
    "deletable": true,
    "editable": true
   },
   "outputs": [
    {
     "name": "stderr",
     "output_type": "stream",
     "text": [
      "<console>:29: error: overloaded method constructor ModelDbSyncer with alternatives:\n",
      "  (conf: edu.mit.csail.db.ml.modeldb.client.SyncerConfigJson)edu.mit.csail.db.ml.modeldb.client.ModelDbSyncer <and>\n",
      "  (hostPortPair: Option[(String, Int)],syncingStrategy: edu.mit.csail.db.ml.modeldb.client.SyncingStrategy.SyncingStrategy,projectConfig: edu.mit.csail.db.ml.modeldb.client.ProjectConfig,experimentConfig: edu.mit.csail.db.ml.modeldb.client.ExperimentConfig,experimentRunConfig: edu.mit.csail.db.ml.modeldb.client.ExperimentRunConfig,shouldCountRows: Boolean,shouldStoreGSCVE: Boolean,shouldStoreSpecificModels: Boolean)edu.mit.csail.db.ml.modeldb.client.ModelDbSyncer\n",
      " cannot be applied to (hostPairKey: Some[(String, Int)], projectConfig: edu.mit.csail.db.ml.modeldb.client.NewOrExistingProject, experimentConfig: edu.mit.csail.db.ml.modeldb.client.DefaultExperiment, experimentRunConfig: edu.mit.csail.db.ml.modeldb.client.NewExperimentRun)\n",
      "             new ModelDbSyncer(hostPairKey=Some(\"modeldb.csail.mit.edu\", 6543),\n",
      "             ^\n"
     ]
    }
   ],
   "source": [
    "ModelDbSyncer.setSyncer(\n",
    "      new ModelDbSyncer(hostP=Some(\"modeldb.csail.mit.edu\", 6543),\n",
    "                        projectConfig = NewOrExistingProject( \n",
    "        \"cross validation\",\n",
    "        \"testuser\",\n",
    "        \"this example creates a cross validation\"\n",
    "      ),\n",
    "      experimentConfig = new DefaultExperiment,\n",
    "      experimentRunConfig = new NewExperimentRun)\n",
    "    )"
   ]
  },
  {
   "cell_type": "code",
   "execution_count": 18,
   "metadata": {
    "collapsed": false,
    "deletable": true,
    "editable": true
   },
   "outputs": [
    {
     "name": "stdout",
     "output_type": "stream",
     "text": [
      "warning: there was one feature warning; re-run with -feature for details\n",
      "res8: String = \"\""
     ]
    }
   ],
   "source": [
    "\"java -version\" !!"
   ]
  },
  {
   "cell_type": "code",
   "execution_count": 20,
   "metadata": {
    "collapsed": false,
    "deletable": true,
    "editable": true
   },
   "outputs": [
    {
     "name": "stdout",
     "output_type": "stream",
     "text": [
      "warning: there was one feature warning; re-run with -feature for details\n",
      "res10: String =\n",
      "\"/home/livy\n",
      "\""
     ]
    }
   ],
   "source": [
    "\"pwd\" !!"
   ]
  },
  {
   "cell_type": "code",
   "execution_count": 25,
   "metadata": {
    "collapsed": false,
    "deletable": true,
    "editable": true
   },
   "outputs": [],
   "source": [
    "%%logs"
   ]
  },
  {
   "cell_type": "code",
   "execution_count": null,
   "metadata": {
    "collapsed": true,
    "deletable": true,
    "editable": true
   },
   "outputs": [],
   "source": []
  }
 ],
 "metadata": {
  "kernelspec": {
   "display_name": "Spark",
   "language": "",
   "name": "sparkkernel"
  },
  "language_info": {
   "codemirror_mode": "text/x-scala",
   "mimetype": "text/x-scala",
   "name": "scala",
   "pygments_lexer": "scala"
  }
 },
 "nbformat": 4,
 "nbformat_minor": 2
}
