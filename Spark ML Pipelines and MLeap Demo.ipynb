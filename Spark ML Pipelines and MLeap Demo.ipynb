{
 "cells": [
  {
   "cell_type": "markdown",
   "metadata": {
    "deletable": true,
    "editable": true
   },
   "source": [
    "# Spark ML Pipelines - Lending Club Demo"
   ]
  },
  {
   "cell_type": "markdown",
   "metadata": {
    "deletable": true,
    "editable": true
   },
   "source": [
    "Using the Lending Club data set, this demo will demonstrate how to:\n",
    "\n",
    "1. Load the research dataset from s3\n",
    "2. Perform feature extraction using Spark ML APIs\n",
    "3. Train a Logistic Regression and a Random Forest Classifier\n",
    "4. Perform Hyperparameter tuning using ParamGrid, Binary Classification Evaluator, and a Cross Validator\n",
    "5. Export the best pipeline (feature transformers and LR/RF models) to an MLeap Bundle, which we'll use to deploy the pipeline to an RESTful API service.\n",
    "\n"
   ]
  },
  {
   "cell_type": "markdown",
   "metadata": {
    "deletable": true,
    "editable": true
   },
   "source": [
    "# Cluster Configuration"
   ]
  },
  {
   "cell_type": "code",
   "execution_count": 1,
   "metadata": {
    "collapsed": false,
    "deletable": true,
    "editable": true
   },
   "outputs": [
    {
     "data": {
      "text/html": [
       "Current session configs: <tt>{'executorCores': 2, 'kind': 'spark', 'conf': {'spark.jars.packages': 'org.apache.hadoop:hadoop-aws:2.7.3,ml.combust.mleap:mleap-spark-extension_2.11:0.7.0,com.databricks:spark-avro_2.11:3.0.1', 'spark.jars.excludes': 'org.scala-lang:scala-reflect,org.apache.spark:spark-tags_2.11'}, 'driverMemory': '2048M'}</tt><br>"
      ],
      "text/plain": [
       "<IPython.core.display.HTML object>"
      ]
     },
     "metadata": {},
     "output_type": "display_data"
    },
    {
     "data": {
      "text/html": [
       "<table>\n",
       "<tr><th>ID</th><th>YARN Application ID</th><th>Kind</th><th>State</th><th>Spark UI</th><th>Driver log</th><th>Current session?</th></tr><tr><td>69</td><td>application_1497282488964_0069</td><td>spark</td><td>idle</td><td><a target=\"_blank\" href=\"http://ip-10-30-1-122.us-west-2.compute.internal:20888/proxy/application_1497282488964_0069/\">Link</a></td><td><a target=\"_blank\" href=\"http://ip-10-30-1-165.us-west-2.compute.internal:8042/node/containerlogs/container_1497282488964_0069_01_000001/root\">Link</a></td><td></td></tr></table>"
      ],
      "text/plain": [
       "<IPython.core.display.HTML object>"
      ]
     },
     "metadata": {},
     "output_type": "display_data"
    }
   ],
   "source": [
    "%%configure -f\n",
    "{\"kind\": \"spark\",\n",
    "\"driverMemory\": \"2048M\",\n",
    "\"executorCores\": 2,\n",
    " \"conf\":{\"spark.jars.packages\":\"org.apache.hadoop:hadoop-aws:2.7.3,ml.combust.mleap:mleap-spark-extension_2.11:0.7.0,com.databricks:spark-avro_2.11:3.0.1\", \"spark.jars.excludes\": \"org.scala-lang:scala-reflect,org.apache.spark:spark-tags_2.11\"}\n",
    "}"
   ]
  },
  {
   "cell_type": "markdown",
   "metadata": {},
   "source": [
    "# Part 2: Spark ML Feature Extraction"
   ]
  },
  {
   "cell_type": "markdown",
   "metadata": {
    "deletable": true,
    "editable": true
   },
   "source": [
    "### Load Required Libraries"
   ]
  },
  {
   "cell_type": "code",
   "execution_count": 2,
   "metadata": {
    "collapsed": false,
    "deletable": true,
    "editable": true
   },
   "outputs": [
    {
     "name": "stdout",
     "output_type": "stream",
     "text": [
      "Starting Spark application\n"
     ]
    },
    {
     "data": {
      "text/html": [
       "<table>\n",
       "<tr><th>ID</th><th>YARN Application ID</th><th>Kind</th><th>State</th><th>Spark UI</th><th>Driver log</th><th>Current session?</th></tr><tr><td>70</td><td>application_1497282488964_0070</td><td>spark</td><td>idle</td><td><a target=\"_blank\" href=\"http://ip-10-30-1-122.us-west-2.compute.internal:20888/proxy/application_1497282488964_0070/\">Link</a></td><td><a target=\"_blank\" href=\"http://ip-10-30-1-118.us-west-2.compute.internal:8042/node/containerlogs/container_1497282488964_0070_01_000001/root\">Link</a></td><td>✔</td></tr></table>"
      ],
      "text/plain": [
       "<IPython.core.display.HTML object>"
      ]
     },
     "metadata": {},
     "output_type": "display_data"
    },
    {
     "name": "stdout",
     "output_type": "stream",
     "text": [
      "SparkSession available as 'spark'.\n",
      "import org.apache.spark.ml.bundle.SparkBundleContext"
     ]
    }
   ],
   "source": [
    "// Spark Training Pipeline Libraries\n",
    "import org.apache.spark.ml.feature.OneHotEncoder\n",
    "import org.apache.spark.ml.feature.{StandardScaler, StringIndexer, VectorAssembler, PolynomialExpansion}\n",
    "import org.apache.spark.ml.classification.{RandomForestClassifier, LogisticRegression}\n",
    "import org.apache.spark.ml.{Pipeline, PipelineModel, Transformer, PipelineStage}\n",
    "import org.apache.spark.ml.tuning.{CrossValidator, ParamGridBuilder}\n",
    "import org.apache.spark.ml.evaluation.{BinaryClassificationEvaluator}\n",
    "import com.databricks.spark.avro._\n",
    "\n",
    "// MLeap/Bundle.ML Serialization Libraries\n",
    "import ml.combust.mleap.spark.SparkSupport._\n",
    "import resource._\n",
    "import ml.combust.bundle.BundleFile\n",
    "import org.apache.spark.ml.bundle.SparkBundleContext"
   ]
  },
  {
   "cell_type": "markdown",
   "metadata": {},
   "source": [
    "### Step 1: Import and Explore the Research Dataset"
   ]
  },
  {
   "cell_type": "code",
   "execution_count": 7,
   "metadata": {
    "collapsed": false,
    "deletable": true,
    "editable": true
   },
   "outputs": [
    {
     "name": "stderr",
     "output_type": "stream",
     "text": [
      "com.amazonaws.services.s3.model.AmazonS3Exception: Status Code: 403, AWS Service: Amazon S3, AWS Request ID: 641FEF2AF9BA6B4E, AWS Error Code: null, AWS Error Message: Forbidden\n",
      "  at com.amazonaws.http.AmazonHttpClient.handleErrorResponse(AmazonHttpClient.java:798)\n",
      "  at com.amazonaws.http.AmazonHttpClient.executeHelper(AmazonHttpClient.java:421)\n",
      "  at com.amazonaws.http.AmazonHttpClient.execute(AmazonHttpClient.java:232)\n",
      "  at com.amazonaws.services.s3.AmazonS3Client.invoke(AmazonS3Client.java:3528)\n",
      "  at com.amazonaws.services.s3.AmazonS3Client.getObjectMetadata(AmazonS3Client.java:976)\n",
      "  at com.amazonaws.services.s3.AmazonS3Client.getObjectMetadata(AmazonS3Client.java:956)\n",
      "  at org.apache.hadoop.fs.s3a.S3AFileSystem.getFileStatus(S3AFileSystem.java:892)\n",
      "  at org.apache.hadoop.fs.s3a.S3AFileSystem.getFileStatus(S3AFileSystem.java:77)\n",
      "  at org.apache.hadoop.fs.FileSystem.exists(FileSystem.java:1426)\n",
      "  at org.apache.spark.sql.execution.datasources.DataSource$$anonfun$14.apply(DataSource.scala:381)\n",
      "  at org.apache.spark.sql.execution.datasources.DataSource$$anonfun$14.apply(DataSource.scala:370)\n",
      "  at scala.collection.TraversableLike$$anonfun$flatMap$1.apply(TraversableLike.scala:241)\n",
      "  at scala.collection.TraversableLike$$anonfun$flatMap$1.apply(TraversableLike.scala:241)\n",
      "  at scala.collection.immutable.List.foreach(List.scala:381)\n",
      "  at scala.collection.TraversableLike$class.flatMap(TraversableLike.scala:241)\n",
      "  at scala.collection.immutable.List.flatMap(List.scala:344)\n",
      "  at org.apache.spark.sql.execution.datasources.DataSource.resolveRelation(DataSource.scala:370)\n",
      "  at org.apache.spark.sql.DataFrameReader.load(DataFrameReader.scala:152)\n",
      "  at org.apache.spark.sql.DataFrameReader.load(DataFrameReader.scala:135)\n",
      "  at com.databricks.spark.avro.package$AvroDataFrameReader$$anonfun$avro$2.apply(package.scala:34)\n",
      "  at com.databricks.spark.avro.package$AvroDataFrameReader$$anonfun$avro$2.apply(package.scala:34)\n",
      "  ... 53 elided\n"
     ]
    }
   ],
   "source": [
    "val filePath = \"s3a://blah@blah://mleap-demo/datasources/lending_club.avro\"\n",
    "val dataset = spark.read.avro(filePath)\n",
    "\n",
    "println(\"Total N Records: \" + dataset.count())\n",
    "println(\"Total N Approved Records: \" + dataset.filter(\"approved == 1.0\").count())"
   ]
  },
  {
   "cell_type": "code",
   "execution_count": 9,
   "metadata": {
    "collapsed": false
   },
   "outputs": [
    {
     "name": "stderr",
     "output_type": "stream",
     "text": [
      "java.util.NoSuchElementException: key not found: fs.s3a.access.key\n",
      "  at scala.collection.MapLike$class.default(MapLike.scala:228)\n",
      "  at scala.collection.AbstractMap.default(Map.scala:59)\n",
      "  at scala.collection.MapLike$class.apply(MapLike.scala:141)\n",
      "  at scala.collection.AbstractMap.apply(Map.scala:59)\n",
      "  ... 53 elided\n"
     ]
    }
   ],
   "source": [
    "sys.env(\"fs.s3a.access.key\")"
   ]
  },
  {
   "cell_type": "code",
   "execution_count": null,
   "metadata": {
    "collapsed": true
   },
   "outputs": [],
   "source": [
    "// View the individual records\n",
    "dataset.select(\"loan_amount\", \"fico_score_group_fnl\", \"dti\", \"emp_length\", \"state\", \"approved\", \"loan_title\").show(5)"
   ]
  },
  {
   "cell_type": "markdown",
   "metadata": {},
   "source": [
    "### Alter the Data Slightly For The Demo\n",
    "\n",
    "- Cap DTI\n",
    "- Limit the number of states for OneHotEncoding\n",
    "- Keep only certain loan categories"
   ]
  },
  {
   "cell_type": "code",
   "execution_count": null,
   "metadata": {
    "collapsed": true
   },
   "outputs": [],
   "source": [
    "dataset.registerTempTable(\"df\")\n",
    "println(dataset.count())\n",
    "\n",
    "val datasetFnl = spark.sqlContext.sql(f\"\"\"\n",
    "    select\n",
    "        loan_amount,\n",
    "        fico_score_group_fnl,\n",
    "        case when dti >= 10.0\n",
    "            then 10.0\n",
    "            else dti\n",
    "        end as dti,\n",
    "        emp_length,\n",
    "        case when state in ('CA', 'NY', 'MN', 'IL', 'FL', 'WA', 'MA', 'TX', 'GA', 'OH', 'NJ', 'VA', 'MI')\n",
    "            then state\n",
    "            else 'Other'\n",
    "        end as state,\n",
    "        loan_title,\n",
    "        approved\n",
    "    from df\n",
    "    where loan_title in('Debt Consolidation', 'Other', 'Home/Home Improvement', 'Payoff Credit Card', 'Car Payment/Loan',\n",
    "    'Business Loan', 'Health/Medical', 'Moving', 'Wedding/Engagement', 'Vacation', 'College', 'Renewable Energy', 'Payoff Bills',\n",
    "    'Personal Loan', 'Motorcycle')\n",
    "\"\"\")\n",
    "\n",
    "datasetFnl.registerTempTable(\"dfFnl\")\n",
    "println(datasetFnl.count())"
   ]
  },
  {
   "cell_type": "markdown",
   "metadata": {},
   "source": [
    "### Summary Statistics"
   ]
  },
  {
   "cell_type": "code",
   "execution_count": null,
   "metadata": {
    "collapsed": true
   },
   "outputs": [],
   "source": [
    "// Most popular cities (original dataset)\n",
    "\n",
    "spark.sqlContext.sql(f\"\"\"\n",
    "    select \n",
    "        state,\n",
    "        count(*) as n,\n",
    "        cast(avg(loan_amount) as decimal(12,2)) as loan_amount,\n",
    "        cast(avg(dti) as decimal(12,2)) as dti,\n",
    "        avg(cast(approved as decimal(12,2))) as approved\n",
    "    from dfFnl\n",
    "    group by state\n",
    "    order by avg(cast(approved as decimal(12,2))) desc\n",
    "\"\"\").show(15)"
   ]
  },
  {
   "cell_type": "code",
   "execution_count": null,
   "metadata": {
    "collapsed": true
   },
   "outputs": [],
   "source": [
    "// Most popular cities (original dataset)\n",
    "\n",
    "spark.sqlContext.sql(f\"\"\"\n",
    "    select \n",
    "        loan_title,\n",
    "        count(*) as n,\n",
    "        cast(avg(loan_amount) as decimal(12,2)) as loan_amount,\n",
    "        cast(avg(dti) as decimal(12,2)) as dti,\n",
    "        avg(cast(approved as decimal(12,2))) as approved\n",
    "    from dfFnl\n",
    "    group by loan_title\n",
    "    order by avg(cast(approved as decimal(12,2))) desc\n",
    "\"\"\").show(15)"
   ]
  },
  {
   "cell_type": "markdown",
   "metadata": {},
   "source": [
    "### Step 2: Define continous and categorical features and filter nulls"
   ]
  },
  {
   "cell_type": "code",
   "execution_count": null,
   "metadata": {
    "collapsed": true
   },
   "outputs": [],
   "source": [
    "// Step 2. Create our feature pipeline and train it on the entire dataset\n",
    "val continuousFeatures = Array(\"loan_amount\", \"dti\")\n",
    "\n",
    "val categoricalFeatures = Array(\"loan_title\",\n",
    "  \"emp_length\",\n",
    "  \"state\",\n",
    "  \"fico_score_group_fnl\")\n",
    "\n",
    "val allFeatures = continuousFeatures.union(categoricalFeatures)"
   ]
  },
  {
   "cell_type": "code",
   "execution_count": null,
   "metadata": {
    "collapsed": true
   },
   "outputs": [],
   "source": [
    "// Filter all null values\n",
    "val allCols = allFeatures.union(Seq(\"approved\")).map(datasetFnl.col)\n",
    "val nullFilter = allCols.map(_.isNotNull).reduce(_ && _)\n",
    "val datasetImputedFiltered = datasetFnl.select(allCols: _*).filter(nullFilter).persist()\n",
    "\n",
    "println(datasetImputedFiltered.count())"
   ]
  },
  {
   "cell_type": "markdown",
   "metadata": {},
   "source": [
    "### Step 3: Split data into training and validation"
   ]
  },
  {
   "cell_type": "code",
   "execution_count": null,
   "metadata": {
    "collapsed": false
   },
   "outputs": [],
   "source": [
    "val Array(trainingDataset, validationDataset) = datasetImputedFiltered.randomSplit(Array(0.7, 0.3))"
   ]
  },
  {
   "cell_type": "markdown",
   "metadata": {},
   "source": [
    "### Step 4: Continous Feature Pipelines\n",
    "\n",
    "Pipeline 1: Scale Features\n",
    "    - VectorAssembler\n",
    "    - StandardScaler\n",
    "    \n",
    "Pipeline 2: Polynomial Expansion\n",
    "    - VectorAssembler\n",
    "    - PolynomialExpansion"
   ]
  },
  {
   "cell_type": "code",
   "execution_count": null,
   "metadata": {
    "collapsed": true
   },
   "outputs": [],
   "source": [
    "// Pipeline 1\n",
    "val continuousFeatureAssembler = new VectorAssembler(uid = \"continuous_feature_assembler\").\n",
    "    setInputCols(continuousFeatures).\n",
    "    setOutputCol(\"unscaled_continuous_features\")\n",
    "\n",
    "val continuousFeatureScaler = new StandardScaler(uid = \"continuous_feature_scaler\").\n",
    "    setInputCol(\"unscaled_continuous_features\").\n",
    "    setOutputCol(\"scaled_continuous_features\")\n",
    "\n",
    "// Pipeline 2\n",
    "val polyExpansionAssembler = new VectorAssembler(uid = \"poly_expansion_feature_assembler\").\n",
    "    setInputCols(Array(\"loan_amount\", \"dti\")).\n",
    "    setOutputCol(\"poly_expansions_features\")\n",
    "\n",
    "val continuousFeaturePolynomialExpansion = new PolynomialExpansion(uid = \"polynomial_expansion_loan_amount\").\n",
    "    setInputCol(\"poly_expansions_features\").\n",
    "    setOutputCol(\"loan_amount_polynomial_expansion_features\")"
   ]
  },
  {
   "cell_type": "markdown",
   "metadata": {},
   "source": [
    "### Step 5: Categorical Feature Pipeline\n",
    "\n",
    "Pipeline 3: String Index + One-Hot-Encode each categorical feature\n",
    "    - StringIndexer\n",
    "    - OneHotEncoder"
   ]
  },
  {
   "cell_type": "code",
   "execution_count": null,
   "metadata": {
    "collapsed": true
   },
   "outputs": [],
   "source": [
    "val categoricalFeatureIndexers = categoricalFeatures.map {\n",
    "    feature => new StringIndexer(uid = s\"string_indexer_$feature\").\n",
    "      setInputCol(feature).\n",
    "      setOutputCol(s\"${feature}_index\")\n",
    "}\n",
    "\n",
    "val categoricalFeatureOneHotEncoders = categoricalFeatureIndexers.map {\n",
    "    indexer => new OneHotEncoder(uid = s\"oh_encoder_${indexer.getOutputCol}\").\n",
    "      setInputCol(indexer.getOutputCol).\n",
    "      setOutputCol(s\"${indexer.getOutputCol}_oh\")\n",
    "}"
   ]
  },
  {
   "cell_type": "markdown",
   "metadata": {},
   "source": [
    "### Step 6: Assemble our features and feature pipeline\n",
    "\n",
    "Combine Pipeline 1, Pipeline 2, and Pipeline 3"
   ]
  },
  {
   "cell_type": "code",
   "execution_count": null,
   "metadata": {
    "collapsed": true
   },
   "outputs": [],
   "source": [
    "// Assemble Feature Vector For Random Forest Classifier\n",
    "val featureColsRf = categoricalFeatureIndexers.map(_.getOutputCol).union(Seq(\"scaled_continuous_features\", \"loan_amount_polynomial_expansion_features\"))\n",
    "\n",
    "// Assemble Feature Vector For Logistic Regression\n",
    "val featureColsLr = categoricalFeatureOneHotEncoders.map(_.getOutputCol).union(Seq(\"scaled_continuous_features\"))\n",
    "\n",
    "// Vector-assemble all categorical and continuous features into a single feature vector\n",
    "val featureAssemblerLr = new VectorAssembler(uid = \"feature_assembler_lr\").\n",
    "    setInputCols(featureColsLr).\n",
    "    setOutputCol(\"features_lr\")\n",
    "    \n",
    "val featureAssemblerRf = new VectorAssembler(uid = \"feature_assembler_rf\").\n",
    "    setInputCols(featureColsRf).\n",
    "    setOutputCol(\"features_rf\")\n",
    "\n",
    "// Define an array of all of our feature estimators that we need to fit\n",
    "val estimators: Array[PipelineStage] = Array(continuousFeatureAssembler, continuousFeatureScaler, polyExpansionAssembler, continuousFeaturePolynomialExpansion).\n",
    "    union(categoricalFeatureIndexers).\n",
    "    union(categoricalFeatureOneHotEncoders).\n",
    "    union(Seq(featureAssemblerLr, featureAssemblerRf))\n",
    "\n",
    "// Build our pipeline based on the estimators\n",
    "val featurePipeline = new Pipeline(uid = \"feature_pipeline\").\n",
    "    setStages(estimators)\n",
    "\n",
    "// Fit our pipeline\n",
    "val sparkFeaturePipelineModel = featurePipeline.fit(trainingDataset)\n",
    "\n",
    "println(\"Finished constructing the pipeline\")\n",
    "\n"
   ]
  },
  {
   "cell_type": "code",
   "execution_count": null,
   "metadata": {
    "collapsed": true
   },
   "outputs": [],
   "source": [
    "val dfWithFeatures = sparkFeaturePipelineModel.transform(trainingDataset)\n",
    "// Explore our generated features - Linear Regression\n",
    "dfWithFeatures.select(\"features_lr\").head(1)"
   ]
  },
  {
   "cell_type": "code",
   "execution_count": null,
   "metadata": {
    "collapsed": true
   },
   "outputs": [],
   "source": [
    "// Explore our generated features - Linear Regression\n",
    "dfWithFeatures.select(\"features_rf\").head(1)"
   ]
  },
  {
   "cell_type": "markdown",
   "metadata": {},
   "source": [
    "# Part 3: Spark ML Training and Scoring"
   ]
  },
  {
   "cell_type": "markdown",
   "metadata": {},
   "source": [
    "In this section we are going to train a Logistic Regression model and a Random Forest Classifier model on the training data and test their accuracy on the validation dataset."
   ]
  },
  {
   "cell_type": "markdown",
   "metadata": {},
   "source": [
    "### Step 7: Train Random Forest Classifier"
   ]
  },
  {
   "cell_type": "code",
   "execution_count": null,
   "metadata": {
    "collapsed": true
   },
   "outputs": [],
   "source": [
    "// Step 3.1 Create our random forest model\n",
    "val randomForest = new RandomForestClassifier(uid = \"random_forest_classifier\").\n",
    "    setFeaturesCol(\"features_rf\").\n",
    "    setLabelCol(\"approved\").\n",
    "    setPredictionCol(\"approved_prediction\")\n",
    "\n",
    "val sparkPipelineEstimatorRf = new Pipeline().setStages(Array(sparkFeaturePipelineModel, randomForest))\n",
    "val sparkPipelineRf = sparkPipelineEstimatorRf.fit(datasetImputedFiltered)\n",
    "\n",
    "println(\"Complete: Training Random Forest\")"
   ]
  },
  {
   "cell_type": "markdown",
   "metadata": {},
   "source": [
    "### Step 8: Train Logistic Regression Model\n"
   ]
  },
  {
   "cell_type": "code",
   "execution_count": null,
   "metadata": {
    "collapsed": true
   },
   "outputs": [],
   "source": [
    "val logisticRegression = new LogisticRegression(uid = \"logistic_regression\").\n",
    "    setFeaturesCol(\"features_lr\").\n",
    "    setLabelCol(\"approved\").\n",
    "    setPredictionCol(\"approved_prediction\")\n",
    "\n",
    "val sparkPipelineEstimatorLr = new Pipeline().setStages(Array(sparkFeaturePipelineModel, logisticRegression))\n",
    "val sparkPipelineLr = sparkPipelineEstimatorLr.fit(datasetImputedFiltered)\n",
    "\n",
    "println(\"Complete: Training Logistic Regression\")"
   ]
  },
  {
   "cell_type": "markdown",
   "metadata": {},
   "source": [
    "### Step 9: Validate the Random Forest Classifier"
   ]
  },
  {
   "cell_type": "code",
   "execution_count": null,
   "metadata": {
    "collapsed": false
   },
   "outputs": [],
   "source": [
    "// Run the feature transformers and score the validation dataset with RF model\n",
    "val validationDataWithPrediction = sparkPipelineRf.transform(validationDataset)"
   ]
  },
  {
   "cell_type": "code",
   "execution_count": null,
   "metadata": {
    "collapsed": true
   },
   "outputs": [],
   "source": [
    "// Compute the Area Under the Receiver Operating Characteristics (ROC) Curve\n",
    "val evaluator = new BinaryClassificationEvaluator().\n",
    "    setLabelCol(randomForest.getLabelCol).\n",
    "    setRawPredictionCol(randomForest.getRawPredictionCol).\n",
    "    setMetricName(\"areaUnderROC\")\n",
    "    \n",
    "val accuracy = evaluator.evaluate(validationDataWithPrediction)\n",
    "println(\"Accuracy: \" + accuracy)"
   ]
  },
  {
   "cell_type": "markdown",
   "metadata": {},
   "source": [
    "### Step 10: Validate the Logistic Regression"
   ]
  },
  {
   "cell_type": "code",
   "execution_count": null,
   "metadata": {
    "collapsed": true
   },
   "outputs": [],
   "source": [
    "// Run the feature transformers and score the validation dataset with LR model\n",
    "val validationDataWithPrediction = sparkPipelineLr.transform(validationDataset)"
   ]
  },
  {
   "cell_type": "code",
   "execution_count": null,
   "metadata": {
    "collapsed": true
   },
   "outputs": [],
   "source": [
    "val evaluator = new BinaryClassificationEvaluator().\n",
    "    setLabelCol(logisticRegression.getLabelCol).\n",
    "    setRawPredictionCol(logisticRegression.getRawPredictionCol).\n",
    "    setMetricName(\"areaUnderROC\")\n",
    "    \n",
    "val accuracy = evaluator.evaluate(validationDataWithPrediction)\n",
    "println(\"Accuracy: \" + accuracy)"
   ]
  }
 ],
 "metadata": {
  "kernelspec": {
   "display_name": "Spark",
   "language": "",
   "name": "sparkkernel"
  },
  "language_info": {
   "codemirror_mode": "text/x-scala",
   "mimetype": "text/x-scala",
   "name": "scala",
   "pygments_lexer": "scala"
  }
 },
 "nbformat": 4,
 "nbformat_minor": 2
}
