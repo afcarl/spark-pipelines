{
 "cells": [
  {
   "cell_type": "markdown",
   "metadata": {},
   "source": [
    "# Spark ML Pipelines - Lending Club Demo"
   ]
  },
  {
   "cell_type": "markdown",
   "metadata": {},
   "source": [
    "Using the Lending Club data set, this demo will demonstrate how to:\n",
    "\n",
    "1. Load the research dataset from s3\n",
    "2. Perform feature extraction using Spark ML APIs\n",
    "3. Train a Logistic Regression and a Random Forest Classifier\n",
    "4. Perform Hyperparameter tuning using ParamGrid, Binary Classification Evaluator, and a Cross Validator\n",
    "5. Export the best pipeline (feature transformers and LR/RF models) to an MLeap Bundle, which we'll use to deploy the pipeline to an RESTful API service.\n",
    "\n"
   ]
  },
  {
   "cell_type": "markdown",
   "metadata": {},
   "source": [
    "# Cluster Configuration"
   ]
  },
  {
   "cell_type": "code",
   "execution_count": 1,
   "metadata": {
    "collapsed": false
   },
   "outputs": [
    {
     "data": {
      "text/html": [
       "Current session configs: <tt>{'executorCores': 2, 'conf': {'spark.jars.packages': 'org.apache.hadoop:hadoop-aws:2.7.3,ml.combust.mleap:mleap-spark-extension_2.11:0.7.0,com.databricks:spark-avro_2.11:3.0.1', 'spark.jars.excludes': 'org.scala-lang:scala-reflect,org.apache.spark:spark-tags_2.11'}, 'kind': 'spark', 'driverMemory': '2048M'}</tt><br>"
      ],
      "text/plain": [
       "<IPython.core.display.HTML object>"
      ]
     },
     "metadata": {},
     "output_type": "display_data"
    },
    {
     "data": {
      "text/html": [
       "<table>\n",
       "<tr><th>ID</th><th>YARN Application ID</th><th>Kind</th><th>State</th><th>Spark UI</th><th>Driver log</th><th>Current session?</th></tr><tr><td>56</td><td>application_1497282488964_0056</td><td>spark</td><td>idle</td><td><a target=\"_blank\" href=\"http://ip-10-30-1-122.us-west-2.compute.internal:20888/proxy/application_1497282488964_0056/\">Link</a></td><td><a target=\"_blank\" href=\"http://ip-10-30-1-154.us-west-2.compute.internal:8042/node/containerlogs/container_1497282488964_0056_01_000001/root\">Link</a></td><td></td></tr></table>"
      ],
      "text/plain": [
       "<IPython.core.display.HTML object>"
      ]
     },
     "metadata": {},
     "output_type": "display_data"
    }
   ],
   "source": [
    "%%configure -f\n",
    "{\"kind\": \"spark\",\n",
    "\"driverMemory\": \"2048M\",\n",
    "\"executorCores\": 2,\n",
    " \"conf\":{\"spark.jars.packages\":\"org.apache.hadoop:hadoop-aws:2.7.3,ml.combust.mleap:mleap-spark-extension_2.11:0.7.0,com.databricks:spark-avro_2.11:3.0.1\", \"spark.jars.excludes\": \"org.scala-lang:scala-reflect,org.apache.spark:spark-tags_2.11\"}\n",
    "}"
   ]
  },
  {
   "cell_type": "markdown",
   "metadata": {},
   "source": [
    "# Load Required Libraries"
   ]
  },
  {
   "cell_type": "code",
   "execution_count": 4,
   "metadata": {
    "collapsed": false
   },
   "outputs": [
    {
     "name": "stderr",
     "output_type": "stream",
     "text": [
      "An error was encountered:\n",
      "Invalid status code '404' from http://10.30.1.32:8998/sessions/62 with error payload: \"Session '62' not found.\"\n"
     ]
    }
   ],
   "source": [
    "// Spark Training Pipeline Libraries\n",
    "import org.apache.spark.ml.feature.OneHotEncoder\n",
    "import org.apache.spark.ml.feature.{StandardScaler, StringIndexer, VectorAssembler, PolynomialExpansion}\n",
    "import org.apache.spark.ml.classification.{RandomForestClassifier, LogisticRegression}\n",
    "import org.apache.spark.ml.{Pipeline, PipelineModel, Transformer, PipelineStage}\n",
    "import org.apache.spark.ml.tuning.{CrossValidator, ParamGridBuilder}\n",
    "import org.apache.spark.ml.evaluation.{BinaryClassificationEvaluator}\n",
    "\n",
    "// MLeap/Bundle.ML Serialization Libraries\n",
    "import ml.combust.mleap.spark.SparkSupport._\n",
    "import resource._\n",
    "import ml.combust.bundle.BundleFile\n",
    "import org.apache.spark.ml.bundle.SparkBundleContext"
   ]
  },
  {
   "cell_type": "code",
   "execution_count": null,
   "metadata": {
    "collapsed": true
   },
   "outputs": [],
   "source": []
  }
 ],
 "metadata": {
  "kernelspec": {
   "display_name": "Spark",
   "language": "",
   "name": "sparkkernel"
  },
  "language_info": {
   "codemirror_mode": "text/x-scala",
   "mimetype": "text/x-scala",
   "name": "scala",
   "pygments_lexer": "scala"
  }
 },
 "nbformat": 4,
 "nbformat_minor": 2
}
