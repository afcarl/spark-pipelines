{
 "cells": [
  {
   "cell_type": "code",
   "execution_count": 1,
   "metadata": {
    "collapsed": false
   },
   "outputs": [
    {
     "data": {
      "text/html": [
       "Current session configs: <tt>{'driverMemory': '2048M', 'executorCores': 2, 'conf': {'spark.jars.packages': 'org.apache.hadoop:hadoop-aws:2.7.3,ml.combust.mleap:mleap-spark-extension_2.11:0.7.0,com.databricks:spark-avro_2.11:3.0.1', 'spark.jars': 'hdfs:///data/modeldb-scala-client.jar', 'spark.jars.excludes': 'org.scala-lang:scala-reflect,org.apache.spark:spark-tags_2.11'}, 'kind': 'spark'}</tt><br>"
      ],
      "text/plain": [
       "<IPython.core.display.HTML object>"
      ]
     },
     "metadata": {},
     "output_type": "display_data"
    },
    {
     "data": {
      "text/html": [
       "No active sessions."
      ],
      "text/plain": [
       "<IPython.core.display.HTML object>"
      ]
     },
     "metadata": {},
     "output_type": "display_data"
    }
   ],
   "source": [
    "%%configure -f\n",
    "{\"kind\": \"spark\",\n",
    "\"driverMemory\": \"2048M\",\n",
    "\"executorCores\": 2,\n",
    " \"conf\":{\"spark.jars.packages\":\"org.apache.hadoop:hadoop-aws:2.7.3,ml.combust.mleap:mleap-spark-extension_2.11:0.7.0,com.databricks:spark-avro_2.11:3.0.1\", \"spark.jars.excludes\": \"org.scala-lang:scala-reflect,org.apache.spark:spark-tags_2.11\",\n",
    "        \"spark.jars\": \"hdfs:///data/modeldb-scala-client.jar\"}\n",
    "}"
   ]
  },
  {
   "cell_type": "code",
   "execution_count": 2,
   "metadata": {
    "collapsed": false
   },
   "outputs": [
    {
     "name": "stdout",
     "output_type": "stream",
     "text": [
      "Starting Spark application\n"
     ]
    },
    {
     "data": {
      "text/html": [
       "<table>\n",
       "<tr><th>ID</th><th>YARN Application ID</th><th>Kind</th><th>State</th><th>Spark UI</th><th>Driver log</th><th>Current session?</th></tr><tr><td>89</td><td>application_1497282488964_0089</td><td>spark</td><td>idle</td><td><a target=\"_blank\" href=\"http://ip-10-30-1-122.us-west-2.compute.internal:20888/proxy/application_1497282488964_0089/\">Link</a></td><td><a target=\"_blank\" href=\"http://ip-10-30-1-118.us-west-2.compute.internal:8042/node/containerlogs/container_1497282488964_0089_01_000001/root\">Link</a></td><td>✔</td></tr></table>"
      ],
      "text/plain": [
       "<IPython.core.display.HTML object>"
      ]
     },
     "metadata": {},
     "output_type": "display_data"
    },
    {
     "name": "stdout",
     "output_type": "stream",
     "text": [
      "SparkSession available as 'spark'.\n",
      "res1: org.apache.spark.SparkContext = org.apache.spark.SparkContext@74cb94"
     ]
    }
   ],
   "source": [
    "sc"
   ]
  },
  {
   "cell_type": "code",
   "execution_count": 4,
   "metadata": {
    "collapsed": false
   },
   "outputs": [
    {
     "name": "stdout",
     "output_type": "stream",
     "text": [
      "import edu.mit.csail.db.ml.modeldb.client.ModelDbSyncer"
     ]
    }
   ],
   "source": [
    "import edu.mit.csail.db.ml.modeldb.client.ModelDbSyncer"
   ]
  }
 ],
 "metadata": {
  "kernelspec": {
   "display_name": "Spark",
   "language": "",
   "name": "sparkkernel"
  },
  "language_info": {
   "codemirror_mode": "text/x-scala",
   "mimetype": "text/x-scala",
   "name": "scala",
   "pygments_lexer": "scala"
  }
 },
 "nbformat": 4,
 "nbformat_minor": 2
}
